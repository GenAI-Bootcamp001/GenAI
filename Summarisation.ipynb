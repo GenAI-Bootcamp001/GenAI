{
 "cells": [
  {
   "cell_type": "code",
   "execution_count": null,
   "metadata": {},
   "outputs": [],
   "source": [
    "%pip install langchain langchain_openai faiss-cpu "
   ]
  },
  {
   "cell_type": "code",
   "execution_count": 3,
   "metadata": {},
   "outputs": [],
   "source": [
    "\"\"\"\n",
    "Sets the OPENAI_API_KEY environment variable to the provided value.\n",
    "\n",
    "This code is used to configure the OpenAI API key, which is required to use the OpenAI API in your Python code. The API key is stored in the OPENAI_API_KEY environment variable, which can then be accessed by other parts of your code that need to interact with the OpenAI API.\n",
    "\"\"\"\n",
    "import os\n",
    "import getpass\n",
    "OPENAI_API_KEY = getpass.getpass()\n",
    "os.environ['OPENAI_API_KEY'] = OPENAI_API_KEY"
   ]
  },
  {
   "cell_type": "code",
   "execution_count": null,
   "metadata": {},
   "outputs": [],
   "source": []
  },
  {
   "cell_type": "code",
   "execution_count": 28,
   "metadata": {},
   "outputs": [
    {
     "name": "stdout",
     "output_type": "stream",
     "text": [
      "Summary: Artificial intelligence (AI) is the simulation of human intelligence in machines, allowing them to think and act like humans. Machine learning is a subset of AI that enables systems to learn and improve from experience without explicit programming. Deep learning is a specialized form of machine learning that uses neural networks with multiple layers to learn from large amounts of data. Natural language processing (NLP) focuses on the interaction between computers and humans through language, enabling computers to understand and generate human languages. NLP is used in various applications such as translation services and virtual assistants.\n"
     ]
    }
   ],
   "source": [
    "\"\"\"\n",
    "This code sets up the necessary components for a text summarization pipeline using the LangChain library and the OpenAI language model.\n",
    "\n",
    "The `OpenAIEmbeddings` class is used to create embeddings for the input documents, which are then stored in a FAISS vector store. The `ChatOpenAI` class is used to initialize the OpenAI language model, which is then used in the `load_summarize_chain` function to create a summarization chain.\n",
    "\n",
    "The `Document` class from LangChain is used to represent the input documents, and the `chain.run()` method is used to generate a summary of the documents.\n",
    "\"\"\"\n",
    "from langchain.embeddings import OpenAIEmbeddings\n",
    "from langchain.vectorstores import FAISS\n",
    "from langchain.docstore.document import Document\n",
    "from langchain.chains.summarize import load_summarize_chain\n",
    "from langchain_openai import ChatOpenAI\n",
    "from langchain.chains.combine_documents.stuff import StuffDocumentsChain\n",
    "from langchain.chains.llm import LLMChain\n",
    "from langchain_core.prompts import PromptTemplate\n",
    "\n",
    "# Local documents\n",
    "documents = [\n",
    "    \"\"\"\n",
    "    Artificial intelligence (AI) refers to the simulation of human intelligence in machines that are programmed to think like humans and mimic their actions. The term may also be applied to any machine that exhibits traits associated with a human mind, such as learning and problem-solving. AI has become an essential part of the technology industry, helping to solve problems in fields ranging from healthcare to robotics and beyond.\n",
    "    \"\"\",\n",
    "    \"\"\"\n",
    "    Machine learning is a subset of AI that provides systems the ability to automatically learn and improve from experience without being explicitly programmed. It focuses on the development of computer programs that can access data and use it to learn for themselves. The process of learning begins with observations or data, such as examples, direct experience, or instruction, in order to look for patterns in data and make better decisions in the future based on the examples provided.\n",
    "    \"\"\",\n",
    "    \"\"\"\n",
    "    Deep learning is a specialized form of machine learning that involves neural networks with three or more layers. These neural networks attempt to simulate the behavior of the human brain in order to learn from large amounts of data. While a neural network with a single layer can still make approximate predictions, additional layers can help optimize accuracy. Deep learning drives many AI applications and services that improve automation, performing tasks without human intervention.\n",
    "    \"\"\",\n",
    "    \"\"\"\n",
    "    Natural language processing (NLP) is a field of AI that focuses on the interaction between computers and humans through natural language. The ultimate objective of NLP is to enable computers to understand, interpret, and generate human languages in a way that is valuable. NLP is used in a variety of applications including translation services, sentiment analysis, and chatbots. It plays a vital role in the development of virtual assistants like Siri and Alexa.\n",
    "    \"\"\"\n",
    "]\n",
    "\n",
    "# Convert documents to LangChain Document format\n",
    "docs = [Document(page_content=text) for text in documents]\n",
    "\n",
    "# Create embeddings for documents and store in FAISS\n",
    "embedding_function = OpenAIEmbeddings()\n",
    "vector_store = FAISS.from_documents(docs, embedding_function)\n",
    "\n",
    "# Initialize the OpenAI LLM\n",
    "llm = ChatOpenAI(temperature=0, model_name=\"gpt-3.5-turbo-16k\")\n",
    "\n",
    "# Define the summarize chain\n",
    "chain = load_summarize_chain(llm, chain_type=\"stuff\")\n",
    "\n",
    "# Run the summarization on the local documents\n",
    "summary = chain.run(docs)\n",
    "\n",
    "print(\"Summary:\", summary)"
   ]
  },
  {
   "cell_type": "code",
   "execution_count": 25,
   "metadata": {},
   "outputs": [
    {
     "name": "stdout",
     "output_type": "stream",
     "text": [
      "Custom Summary: Artificial intelligence (AI) is the simulation of human intelligence in machines, which can learn and solve problems. Machine learning is a subset of AI that allows systems to learn from data without explicit programming. Deep learning is a specialized form of machine learning that uses neural networks to mimic the human brain. Natural language processing (NLP) focuses on the interaction between computers and humans through language, enabling computers to understand and generate human languages. NLP is used in various applications such as translation services and virtual assistants.\n"
     ]
    }
   ],
   "source": [
    "prompt_template = \"\"\"Write a concise summary of the following:\n",
    "\"{text}\"\n",
    "CONCISE SUMMARY:\"\"\"\n",
    "prompt = PromptTemplate.from_template(prompt_template)\n",
    "\n",
    "# Define LLM chain with custom prompt\n",
    "llm_chain = LLMChain(llm=llm, prompt=prompt)\n",
    "\n",
    "# Define StuffDocumentsChain with custom LLM chain\n",
    "stuff_chain = StuffDocumentsChain(llm_chain=llm_chain, document_variable_name=\"text\")\n",
    "\n",
    "# Run the custom summarization chain\n",
    "custom_summary = stuff_chain.run(docs)\n",
    "\n",
    "print(\"Custom Summary:\", custom_summary)"
   ]
  },
  {
   "cell_type": "markdown",
   "metadata": {},
   "source": [
    "# Summarizing for a PDF"
   ]
  },
  {
   "cell_type": "markdown",
   "metadata": {},
   "source": []
  },
  {
   "cell_type": "code",
   "execution_count": 19,
   "metadata": {},
   "outputs": [],
   "source": [
    "\"\"\"\n",
    "This code imports the necessary modules and classes from the langchain and gradio libraries to create a summarization application.\n",
    "\n",
    "The `OpenAI` class from langchain is used to initialize a language model with a specified temperature parameter.\n",
    "\n",
    "The `PromptTemplate` class from langchain is used to define a prompt template for the summarization task.\n",
    "\n",
    "The `load_summarize_chain` function from langchain.chains.summarize is used to load a pre-defined summarization chain.\n",
    "\n",
    "The `PyPDFLoader` class from langchain.document_loaders is used to load PDF documents for summarization.\n",
    "\"\"\"\n",
    "import gradio as gr\n",
    "from langchain import OpenAI, PromptTemplate\n",
    "from langchain.chains.summarize import load_summarize_chain\n",
    "from langchain.document_loaders import PyPDFLoader\n",
    "\n",
    "llm = OpenAI(temperature=0)"
   ]
  },
  {
   "cell_type": "code",
   "execution_count": 20,
   "metadata": {},
   "outputs": [],
   "source": [
    "\"\"\"\n",
    "Summarizes the text content of a PDF document using a language model-based summarization chain.\n",
    "\n",
    "Args:\n",
    "    path (str): The file path of the PDF document to be summarized.\n",
    "\n",
    "Returns:\n",
    "    str: A summary of the text content of the PDF document.\n",
    "\"\"\"\n",
    "\n",
    "def summarize_pdf(path):\n",
    "\n",
    "    summary = \"\"\n",
    "    try:\n",
    "        \"\"\"\n",
    "        Loads and splits PDF documents using the PyPDFLoader.\n",
    "        \n",
    "        Args:\n",
    "            path (str): The file path of the PDF document to be loaded and split.\n",
    "        \n",
    "        Returns:\n",
    "            A list of document chunks loaded from the PDF file.\n",
    "        \"\"\"\n",
    "        loader = PyPDFLoader(path.name)\n",
    "        \"\"\"\n",
    "        Loads and splits PDF documents using the PyPDFLoader.\n",
    "        \n",
    "        Args:\n",
    "            path (str): The file path of the PDF document to be loaded and split.\n",
    "        \n",
    "        Returns:\n",
    "            A list of document chunks loaded from the PDF file.\n",
    "        \"\"\"\n",
    "        docs = loader.load_and_split()\n",
    "        \"\"\"\n",
    "        Loads a summarization chain using the \"map_reduce\" chain type. The summarization chain is used to generate a summary of the provided documents.\n",
    "        \n",
    "        Args:\n",
    "            llm (LLMChain): The language model to use for the summarization.\n",
    "            chain_type (str): The type of summarization chain to use, in this case \"map_reduce\".\n",
    "        \n",
    "        Returns:\n",
    "            A summarization chain that can be used to generate summaries of documents.\n",
    "        \"\"\"\n",
    "        chain = load_summarize_chain(llm, chain_type=\"map_reduce\")\n",
    "        summary = chain.run(docs)\n",
    "        prompt_template = \"\"\"\n",
    "\n",
    "        {text}\n",
    "\n",
    "        SUMMARY:\"\"\"\n",
    "        PROMPT = PromptTemplate(template=prompt_template, input_variables=[\"text\"])\n",
    "        chain = load_summarize_chain(llm, chain_type=\"map_reduce\", \n",
    "                                    map_prompt=PROMPT, combine_prompt=PROMPT)\n",
    "    except:\n",
    "        summary = \"Something went wrong. \\nPlease try with some other document.\"\n",
    "    return summary"
   ]
  },
  {
   "cell_type": "code",
   "execution_count": 21,
   "metadata": {},
   "outputs": [],
   "source": [
    "def upload_file(file):\n",
    "    return file.name"
   ]
  },
  {
   "cell_type": "code",
   "execution_count": 22,
   "metadata": {},
   "outputs": [
    {
     "name": "stdout",
     "output_type": "stream",
     "text": [
      "Running on local URL:  http://127.0.0.1:7860\n",
      "\n",
      "To create a public link, set `share=True` in `launch()`.\n"
     ]
    },
    {
     "data": {
      "text/html": [
       "<div><iframe src=\"http://127.0.0.1:7860/\" width=\"100%\" height=\"500\" allow=\"autoplay; camera; microphone; clipboard-read; clipboard-write;\" frameborder=\"0\" allowfullscreen></iframe></div>"
      ],
      "text/plain": [
       "<IPython.core.display.HTML object>"
      ]
     },
     "metadata": {},
     "output_type": "display_data"
    },
    {
     "name": "stdout",
     "output_type": "stream",
     "text": [
      "IMPORTANT: You are using gradio version 4.16.0, however version 4.29.0 is available, please upgrade.\n",
      "--------\n",
      "IMPORTANT: You are using gradio version 4.16.0, however version 4.29.0 is available, please upgrade.\n",
      "--------\n"
     ]
    },
    {
     "name": "stderr",
     "output_type": "stream",
     "text": [
      "c:\\Users\\Manoj\\AppData\\Local\\Programs\\Python\\Python310\\lib\\site-packages\\langchain_core\\_api\\deprecation.py:117: LangChainDeprecationWarning: The function `run` was deprecated in LangChain 0.1.0 and will be removed in 0.2.0. Use invoke instead.\n",
      "  warn_deprecated(\n"
     ]
    }
   ],
   "source": [
    "def main():\n",
    "    global input_pdf_path\n",
    "    with gr.Blocks() as demo:\n",
    "        file_output = gr.File()\n",
    "        upload_button = gr.UploadButton(\"Click to Upload a File\", file_types=[\"pdf\"])\n",
    "        upload_button.upload(upload_file, upload_button, file_output)\n",
    "\n",
    "    output_summary = gr.Textbox(label=\"Summary\")\n",
    "\n",
    "    interface = gr.Interface(\n",
    "        fn=summarize_pdf,\n",
    "        inputs=[upload_button],\n",
    "        outputs=[output_summary],\n",
    "        title=\"PDF Summarizer\",\n",
    "        description=\"\",\n",
    "    )\n",
    "    \n",
    "    interface.launch()\n",
    "\n",
    "if __name__ == \"__main__\":\n",
    "    main()"
   ]
  },
  {
   "cell_type": "code",
   "execution_count": null,
   "metadata": {},
   "outputs": [],
   "source": []
  }
 ],
 "metadata": {
  "kernelspec": {
   "display_name": "Python 3",
   "language": "python",
   "name": "python3"
  },
  "language_info": {
   "codemirror_mode": {
    "name": "ipython",
    "version": 3
   },
   "file_extension": ".py",
   "mimetype": "text/x-python",
   "name": "python",
   "nbconvert_exporter": "python",
   "pygments_lexer": "ipython3",
   "version": "3.10.2"
  }
 },
 "nbformat": 4,
 "nbformat_minor": 2
}
